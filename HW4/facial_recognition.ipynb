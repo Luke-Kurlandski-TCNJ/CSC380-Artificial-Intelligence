{
 "cells": [
  {
   "cell_type": "code",
   "execution_count": 2,
   "source": [
    "from pathlib import Path\n",
    "\n",
    "import numpy as np\n",
    "import pandas as pd\n",
    "from PIL import Image\n",
    "from torch.utils.data import DataLoader, Dataset\n",
    "from torchvision.io import read_image\n",
    "from torchvision.transforms import ToTensor"
   ],
   "outputs": [],
   "metadata": {}
  },
  {
   "cell_type": "markdown",
   "source": [
    "# Image Processessing"
   ],
   "metadata": {}
  },
  {
   "cell_type": "code",
   "execution_count": 3,
   "source": [
    "def resize_images_in_dir(raw_data_path:Path, width:int, height:int):\n",
    "\tfor img_path in raw_data_path.iterdir():\n",
    "\t\timg = Image.open(img_path)\n",
    "\t\timg = img.resize((width, height), Image.ANTIALIAS)\n",
    "\t\timg.save(img_path)"
   ],
   "outputs": [],
   "metadata": {}
  },
  {
   "cell_type": "code",
   "execution_count": 4,
   "source": [
    "class FaceClassifierDataset(Dataset):\n",
    "    def __init__(self, annotations_file, img_dir):\n",
    "        self.img_labels = pd.read_csv(annotations_file)\n",
    "        self.img_dir = img_dir\n",
    "\n",
    "    def __len__(self):\n",
    "        return len(self.img_labels)\n",
    "\n",
    "    def __getitem__(self, idx):\n",
    "        img_path = self.img_dir / str(self.img_labels.iloc[idx, 0])\n",
    "        image = read_image(img_path)\n",
    "        image = self.transform(image)\n",
    "        label = self.img_labels.iloc[idx, 1]\n",
    "        label = self.target_transform(label)\n",
    "        return image, label\n",
    "\n",
    "    def transform(self, image):\n",
    "        return ToTensor(image)\n",
    "\n",
    "    def target_transform(self, label):\n",
    "        if label.upper() == \"TAYLOR\":\n",
    "            return 0\n",
    "        elif label.upper() == \"ROCK\":\n",
    "            return 1\n",
    "        elif label.upper() == \"QUENTIN\":\n",
    "            return 2"
   ],
   "outputs": [],
   "metadata": {}
  },
  {
   "cell_type": "code",
   "execution_count": 5,
   "source": [
    "root_data_path = Path(\"/home/hpc/kurlanl1/CSC-380/CSC380-Artificial-Intelligence/faces_dataset\")\n",
    "train_data_path = root_data_path / \"train\"\n",
    "test_data_path = root_data_path / \"train\"\n",
    "\n",
    "train_dataset = FaceClassifierDataset(train_data_path / \"y\" / \"y.csv\", \n",
    "\t\t\t\t\ttest_data_path / \"X\")\n",
    "test_dataset = FaceClassifierDataset(test_data_path / \"y\" / \"y.csv\", \n",
    "\t\t\t\t\ttest_data_path / \"X\")\n",
    "\n",
    "train_dataloader = DataLoader(train_dataset, batch_size=1, shuffle=True)\n",
    "test_dataloader = DataLoader(test_dataset, batch_size=1, shuffle=True)"
   ],
   "outputs": [],
   "metadata": {}
  },
  {
   "cell_type": "code",
   "execution_count": null,
   "source": [],
   "outputs": [],
   "metadata": {}
  }
 ],
 "metadata": {
  "orig_nbformat": 4,
  "language_info": {
   "name": "python",
   "version": "3.8.6",
   "mimetype": "text/x-python",
   "codemirror_mode": {
    "name": "ipython",
    "version": 3
   },
   "pygments_lexer": "ipython3",
   "nbconvert_exporter": "python",
   "file_extension": ".py"
  },
  "kernelspec": {
   "name": "python3",
   "display_name": "Python 3.8.6 64-bit ('env': venv)"
  },
  "interpreter": {
   "hash": "e1a420afef72d568f4d145c880c34c9988b552a850a18d1cf667fadaf7884c38"
  }
 },
 "nbformat": 4,
 "nbformat_minor": 2
}