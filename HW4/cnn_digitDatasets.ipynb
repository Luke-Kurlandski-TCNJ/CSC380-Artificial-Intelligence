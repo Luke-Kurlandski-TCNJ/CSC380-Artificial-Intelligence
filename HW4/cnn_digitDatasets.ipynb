{
 "cells": [
  {
   "cell_type": "markdown",
   "id": "4ce91da0",
   "metadata": {},
   "source": [
    "# 1.2 Convolution Neural Networks (ConvNet/CNN) Digit dataset "
   ]
  },
  {
   "cell_type": "code",
   "execution_count": 75,
   "id": "b13eb5a2",
   "metadata": {},
   "outputs": [],
   "source": [
    "import numpy as np\n",
    "from torch.utils.data import TensorDataset, DataLoader\n",
    "from torch import optim, nn\n",
    "import torch\n",
    "import matplotlib.pyplot as plt\n",
    "import torch.nn.functional as F\n",
    "from sklearn.model_selection import train_test_split"
   ]
  },
  {
   "cell_type": "code",
   "execution_count": 76,
   "id": "d1e9150b",
   "metadata": {},
   "outputs": [],
   "source": [
    "# reading training datasets\n",
    "data_train = np.loadtxt('dataset/pendigits.tra', delimiter=',')\n",
    "data_test = np.loadtxt('dataset/pendigits.tes', delimiter=',')"
   ]
  },
  {
   "cell_type": "code",
   "execution_count": 77,
   "id": "086867fd",
   "metadata": {},
   "outputs": [],
   "source": [
    "#spliting the features and labels \n",
    "X_train = data_train[:, :-1] / 100.0\n",
    "y_train = data_train[:, -1] \n",
    "X_test = data_test[:, :-1] / 100.0\n",
    "y_test = data_test[:, -1]"
   ]
  },
  {
   "cell_type": "code",
   "execution_count": 78,
   "id": "707c377a",
   "metadata": {},
   "outputs": [],
   "source": [
    "#spliting the training and validation datasets \n",
    "X_train, x_valid, y_train, y_valid = train_test_split(X_train, y_train, test_size=0.2, random_state=42)"
   ]
  },
  {
   "cell_type": "code",
   "execution_count": 79,
   "id": "15c5245d",
   "metadata": {},
   "outputs": [],
   "source": [
    "# convert from numpy to tensor data type\n",
    "X_train, y_train, x_valid, y_valid, X_test, y_test = map(\n",
    "    torch.tensor, (X_train.astype('float32'), y_train.astype('int64'), \n",
    "                   x_valid.astype('float32'), y_valid.astype('int64'),\n",
    "                  X_test.astype('float32'), y_test.astype('int64'))\n",
    ")"
   ]
  },
  {
   "cell_type": "code",
   "execution_count": 80,
   "id": "c35cd796",
   "metadata": {},
   "outputs": [
    {
     "name": "stdout",
     "output_type": "stream",
     "text": [
      "torch.Size([5995, 16])\n",
      "torch.Size([1499, 16])\n",
      "torch.Size([3498, 16])\n"
     ]
    }
   ],
   "source": [
    "# Combining to Tensor Dataset\n",
    "train_ds = TensorDataset(X_train, y_train)\n",
    "valid_ds = TensorDataset(x_valid, y_valid)\n",
    "print(X_train.shape)\n",
    "print(x_valid.shape)\n",
    "print(X_test.shape)"
   ]
  },
  {
   "cell_type": "markdown",
   "id": "57aabd10",
   "metadata": {},
   "source": [
    "## Optimizing the Model Parameters \n",
    "### * To train a model we need a loss function \n"
   ]
  },
  {
   "cell_type": "code",
   "execution_count": 81,
   "id": "566d39b9",
   "metadata": {},
   "outputs": [],
   "source": [
    "loss_fn = F.cross_entropy"
   ]
  },
  {
   "cell_type": "markdown",
   "id": "7a7545d8",
   "metadata": {},
   "source": [
    "## Create fit() and get_data()\n",
    "### * Calculating the loss for both the training set and the validation set \n",
    "### * loss_batch function which computes the loss for  batch\n",
    "### * Passing an opt in for the training set and use it to perform backprop"
   ]
  },
  {
   "cell_type": "code",
   "execution_count": 82,
   "id": "89555186",
   "metadata": {},
   "outputs": [],
   "source": [
    "def loss_batch(model, loss_func, xb, yb, opt=None):\n",
    "    loss = loss_func(model(xb), yb)\n",
    "\n",
    "    if opt is not None:\n",
    "        loss.backward()\n",
    "        opt.step()\n",
    "        opt.zero_grad()\n",
    "\n",
    "    return loss.item(), len(xb)\n",
    "\n",
    "# fit runs the necessary operations to train model \n",
    "def fit(epochs, model, loss_func, opt, train_dl, valid_dl):\n",
    "    los = []\n",
    "    for epoch in range(epochs):\n",
    "        model.train()\n",
    "        for xb, yb in train_dl:\n",
    "            loss_batch(model, loss_func, xb, yb, opt)\n",
    "\n",
    "        model.eval()\n",
    "        with torch.no_grad():\n",
    "            losses, nums = zip(\n",
    "                *[loss_batch(model, loss_func, xb, yb) for xb, yb in valid_dl]\n",
    "            )\n",
    "        val_loss = np.sum(np.multiply(losses, nums)) / np.sum(nums)\n",
    "        los.append(val_loss)\n",
    "\n",
    "    return los\n",
    "\n",
    "#get_data returns dataloaders for the training and validation sets \n",
    "def get_data(train_ds, valid_ds, batch_size):\n",
    "    return (\n",
    "        DataLoader(train_ds, batch_size=batch_size, shuffle=True),\n",
    "        DataLoader(valid_ds, batch_size=batch_size * 2),\n",
    "    )"
   ]
  },
  {
   "cell_type": "markdown",
   "id": "94a32b66",
   "metadata": {},
   "source": [
    "## nn. Sequential\n",
    "### * Defining a custom layer from a given function \n",
    "### *  Lambda will create a layer that we can use when defining a network with Sequential."
   ]
  },
  {
   "cell_type": "code",
   "execution_count": 83,
   "id": "8067418d",
   "metadata": {},
   "outputs": [],
   "source": [
    "class Lambda(nn.Module):\n",
    "    def __init__(self, func):\n",
    "        super().__init__()\n",
    "        self.func = func\n",
    "\n",
    "    def forward(self, x):\n",
    "        return self.func(x)\n",
    "\n",
    "# funciton to reshape input\n",
    "def preprocess(x, y):\n",
    "    return x.view(-1, 1, 4, 4), y\n",
    "\n",
    "# class to preprocess input\n",
    "class WrappedDataLoader:\n",
    "    def __init__(self, dl, func):\n",
    "        self.dl = dl\n",
    "        self.func = func\n",
    "\n",
    "    def __len__(self):\n",
    "        return len(self.dl)\n",
    "\n",
    "    def __iter__(self):\n",
    "        batches = iter(self.dl)\n",
    "        for b in batches:\n",
    "            yield (self.func(*b))"
   ]
  },
  {
   "cell_type": "markdown",
   "id": "36638fd5",
   "metadata": {},
   "source": [
    "# CNNModel \n",
    "### * Two  convolution Layers \n",
    "### * Each followed by ReLU\n",
    "### * Performing Average pooling at the end "
   ]
  },
  {
   "cell_type": "code",
   "execution_count": 84,
   "id": "a079e708",
   "metadata": {},
   "outputs": [
    {
     "name": "stdout",
     "output_type": "stream",
     "text": [
      "Sequential(\n",
      "  (0): Conv2d(1, 6, kernel_size=(3, 3), stride=(2, 2), padding=(1, 1))\n",
      "  (1): ReLU()\n",
      "  (2): Conv2d(6, 10, kernel_size=(3, 3), stride=(2, 2), padding=(1, 1))\n",
      "  (3): ReLU()\n",
      "  (4): AdaptiveAvgPool2d(output_size=1)\n",
      "  (5): Lambda()\n",
      ")\n"
     ]
    }
   ],
   "source": [
    "epochs = 100  # number of iterations\n",
    "lr = 0.01  # learning rate\n",
    "batch_size = 128  # batch size\n",
    "\n",
    "#preprocessing input \n",
    "train_dl, valid_dl = get_data(train_ds, valid_ds, batch_size)\n",
    "train_dl = WrappedDataLoader(train_dl, preprocess)\n",
    "valid_dl = WrappedDataLoader(valid_dl, preprocess)\n",
    "\n",
    "#convolutional layer \n",
    "model = nn.Sequential(\n",
    "    nn.Conv2d(1, 6, kernel_size=3, stride=2, padding=1),\n",
    "    nn.ReLU(),\n",
    "    nn.Conv2d(6, 10, kernel_size=3, stride=2, padding=1),\n",
    "    nn.ReLU(),\n",
    "    nn.AdaptiveAvgPool2d(1),\n",
    "    Lambda(lambda x: x.view(x.size(0), -1)),\n",
    ")\n",
    "\n",
    "#printing out model\n",
    "print(model)\n",
    "# using an optimize \n",
    "opt = optim.SGD(model.parameters(), lr=lr, momentum=0.9)\n",
    "\n",
    "#training the model \n",
    "los = fit(epochs, model, loss_fn, opt, train_dl, valid_dl)"
   ]
  },
  {
   "cell_type": "code",
   "execution_count": 85,
   "id": "6ebe873e",
   "metadata": {},
   "outputs": [
    {
     "name": "stdout",
     "output_type": "stream",
     "text": [
      "Accuracy on the test set : 88 %\n"
     ]
    }
   ],
   "source": [
    "# predicting on test set \n",
    "pred_y = model(X_train.view(-1,1,4,4)).detach().numpy()\n",
    "pred_y = np.argmax(pred_y, axis = 1)\n",
    "\n",
    "# testing the accuracy \n",
    "accur_y = y_train.numpy()\n",
    "print(\"Accuracy on the test set : {:2.0f} %\".format(np.mean(accur_y==pred_y)*100))"
   ]
  }
 ],
 "metadata": {
  "kernelspec": {
   "display_name": "Python 3",
   "language": "python",
   "name": "python3"
  },
  "language_info": {
   "codemirror_mode": {
    "name": "ipython",
    "version": 3
   },
   "file_extension": ".py",
   "mimetype": "text/x-python",
   "name": "python",
   "nbconvert_exporter": "python",
   "pygments_lexer": "ipython3",
   "version": "3.8.8"
  }
 },
 "nbformat": 4,
 "nbformat_minor": 5
}
