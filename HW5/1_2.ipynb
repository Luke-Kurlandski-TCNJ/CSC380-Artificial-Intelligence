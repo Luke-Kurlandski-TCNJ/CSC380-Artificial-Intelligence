{
 "cells": [
  {
   "cell_type": "markdown",
   "id": "c0729552",
   "metadata": {},
   "source": [
    "# NLP FROM SCRATCH: Generating Names with a Character-Level RNN"
   ]
  },
  {
   "cell_type": "markdown",
   "id": "6a41a6a8",
   "metadata": {},
   "source": [
    "* Generate names from Languages \n",
    "* Instead of predicitng a category after reading in all the letters of a names, we input  a category and output a letter at a time\n",
    "* Recurrently predicting characters to from language , often referred to as \"Language model\""
   ]
  },
  {
   "cell_type": "markdown",
   "id": "54efdd54",
   "metadata": {},
   "source": [
    "## Preparing the Data \n",
    "*  Plain text files with a names per line , we split lines into an array, convert Unicode to ASCII and end up with a dictionary."
   ]
  },
  {
   "cell_type": "code",
   "execution_count": 1,
   "id": "9bd307fe",
   "metadata": {},
   "outputs": [
    {
     "name": "stdout",
     "output_type": "stream",
     "text": [
      "# categories: 18 ['Czech', 'Irish', 'Italian', 'Scottish', 'English', 'Dutch', 'Chinese', 'Polish', 'German', 'Russian', 'Arabic', 'Vietnamese', 'French', 'Portuguese', 'Greek', 'Spanish', 'Korean', 'Japanese']\n",
      "O'Neal\n"
     ]
    }
   ],
   "source": [
    "from __future__ import unicode_literals, print_function, division\n",
    "from io import open\n",
    "import glob\n",
    "import os\n",
    "import unicodedata\n",
    "import string\n",
    "\n",
    "all_letters = string.ascii_letters + \" .,;'-\"\n",
    "n_letters = len(all_letters) + 1 # Plus EOS marker\n",
    "\n",
    "def findFiles(path): return glob.glob(path)\n",
    "\n",
    "# Turn a Unicode string to plain ASCII, thanks to https://stackoverflow.com/a/518232/2809427\n",
    "def unicodeToAscii(s):\n",
    "    return ''.join(\n",
    "        c for c in unicodedata.normalize('NFD', s)\n",
    "        if unicodedata.category(c) != 'Mn'\n",
    "        and c in all_letters\n",
    "    )\n",
    "\n",
    "# Read a file and split into lines\n",
    "def readLines(filename):\n",
    "    with open(filename, encoding='utf-8') as some_file:\n",
    "        return [unicodeToAscii(line.strip()) for line in some_file]\n",
    "\n",
    "# Build the category_lines dictionary, a list of lines per category\n",
    "category_lines = {}\n",
    "all_categories = []\n",
    "for filename in findFiles('data/names/*.txt'):\n",
    "    category = os.path.splitext(os.path.basename(filename))[0]\n",
    "    all_categories.append(category)\n",
    "    lines = readLines(filename)\n",
    "    category_lines[category] = lines\n",
    "\n",
    "n_categories = len(all_categories)\n",
    "\n",
    "if n_categories == 0:\n",
    "    raise RuntimeError('Data not found. Make sure that you downloaded data '\n",
    "        'from https://download.pytorch.org/tutorial/data.zip and extract it to '\n",
    "        'the current directory.')\n",
    "\n",
    "print('# categories:', n_categories, all_categories)\n",
    "print(unicodeToAscii(\"O'Néàl\"))"
   ]
  },
  {
   "cell_type": "markdown",
   "id": "40f0121d",
   "metadata": {},
   "source": [
    "# Creating the Network\n",
    "* Extra argument for the category tensor , which is concatenated along with the others. The category tensor is a one-hot vector just like the letter input.\n",
    "* We will interpret the output as the probability ot the next letter. When sampling the most likely output letter is used as the next input letter \n",
    "* A dropout layer which randomly zeros parts of its input with a given probability and is usually used to fuzz inputs to prevent overfiting"
   ]
  },
  {
   "cell_type": "code",
   "execution_count": 2,
   "id": "a659ba24",
   "metadata": {},
   "outputs": [],
   "source": [
    "import torch\n",
    "import torch.nn as nn\n",
    "\n",
    "class RNN(nn.Module):\n",
    "    def __init__(self, input_size, hidden_size, output_size):\n",
    "        super(RNN, self).__init__()\n",
    "        self.hidden_size = hidden_size\n",
    "\n",
    "        self.i2h = nn.Linear(n_categories + input_size + hidden_size, hidden_size)\n",
    "        self.i2o = nn.Linear(n_categories + input_size + hidden_size, output_size)\n",
    "        self.o2o = nn.Linear(hidden_size + output_size, output_size)\n",
    "        self.dropout = nn.Dropout(0.1)\n",
    "        self.softmax = nn.LogSoftmax(dim=1)\n",
    "\n",
    "    def forward(self, category, input, hidden):\n",
    "        input_combined = torch.cat((category, input, hidden), 1)\n",
    "        hidden = self.i2h(input_combined)\n",
    "        output = self.i2o(input_combined)\n",
    "        output_combined = torch.cat((hidden, output), 1)\n",
    "        output = self.o2o(output_combined)\n",
    "        output = self.dropout(output)\n",
    "        output = self.softmax(output)\n",
    "        return output, hidden\n",
    "\n",
    "    def initHidden(self):\n",
    "        return torch.zeros(1, self.hidden_size)"
   ]
  },
  {
   "cell_type": "markdown",
   "id": "74c72431",
   "metadata": {},
   "source": [
    "# Training \n",
    "# Preparing for Training \n",
    "\n",
    "* Helper function to get random pairs of (category line) "
   ]
  },
  {
   "cell_type": "code",
   "execution_count": 3,
   "id": "0fad8283",
   "metadata": {},
   "outputs": [],
   "source": [
    "import random\n",
    "\n",
    "# Random item from a list\n",
    "def randomChoice(l):\n",
    "    return l[random.randint(0, len(l) - 1)]\n",
    "\n",
    "# Get a random category and random line from that category\n",
    "def randomTrainingPair():\n",
    "    category = randomChoice(all_categories)\n",
    "    line = randomChoice(category_lines[category])\n",
    "    return category, line"
   ]
  },
  {
   "cell_type": "markdown",
   "id": "2c2e1f35",
   "metadata": {},
   "source": [
    "* For each timestep (that is for each letter in a training word ) the inputs of the network will be (category, current letter, hidden state) and the output will be( next letter, next hidden state). So for each training set, we'll need the category a set of input letters and  a set of output/target letters \n",
    "\n",
    "* Since we are predicting the next letter from  the current letter for each timestep, the letter pairs are groups of consecutive letters from the line-  eg. for \"ABCD<EOS>\" we could create (\"A\",\"B\"),(\"B\",\"C\"),(\"C\",\"D\"),(\"D\", \"EOS\").\n",
    "\n",
    "* The category tensor is a one-hot tensor of size <1 x n_categories>. when training we feed it to the network at every timestep this is a design choice, it could have been included as part of initial state or some other strategy.\n",
    "   "
   ]
  },
  {
   "cell_type": "code",
   "execution_count": 4,
   "id": "93194208",
   "metadata": {},
   "outputs": [],
   "source": [
    "# One-hot vector for category\n",
    "def categoryTensor(category):\n",
    "    li = all_categories.index(category)\n",
    "    tensor = torch.zeros(1, n_categories)\n",
    "    tensor[0][li] = 1\n",
    "    return tensor\n",
    "\n",
    "# One-hot matrix of first to last letters (not including EOS) for input\n",
    "def inputTensor(line):\n",
    "    tensor = torch.zeros(len(line), 1, n_letters)\n",
    "    for li in range(len(line)):\n",
    "        letter = line[li]\n",
    "        tensor[li][0][all_letters.find(letter)] = 1\n",
    "    return tensor\n",
    "\n",
    "# LongTensor of second letter to end (EOS) for target\n",
    "def targetTensor(line):\n",
    "    letter_indexes = [all_letters.find(line[li]) for li in range(1, len(line))]\n",
    "    letter_indexes.append(n_letters - 1) # EOS\n",
    "    return torch.LongTensor(letter_indexes)"
   ]
  },
  {
   "cell_type": "markdown",
   "id": "e672e119",
   "metadata": {},
   "source": [
    "* ### for convenience during training we'll make a randomTrainingExample function that fetches a random(category, line) pair and turns them into the required (category, input, target) tensors  "
   ]
  },
  {
   "cell_type": "code",
   "execution_count": 5,
   "id": "33589353",
   "metadata": {},
   "outputs": [],
   "source": [
    "# Make category, input, and target tensors from a random category, line pair\n",
    "def randomTrainingExample():\n",
    "    category, line = randomTrainingPair()\n",
    "    category_tensor = categoryTensor(category)\n",
    "    input_line_tensor = inputTensor(line)\n",
    "    target_line_tensor = targetTensor(line)\n",
    "    return category_tensor, input_line_tensor, target_line_tensor"
   ]
  },
  {
   "cell_type": "markdown",
   "id": "84322695",
   "metadata": {},
   "source": [
    "# Training the Network\n",
    "* in contrast to classification where only the last output is used, we are making a prediciton at every step, so we are calculating loss at every step \n",
    "* The magic of autograd allow you to simply sum these losses at each step and call backward at the end."
   ]
  },
  {
   "cell_type": "code",
   "execution_count": 6,
   "id": "c15b3aff",
   "metadata": {},
   "outputs": [],
   "source": [
    "criterion = nn.NLLLoss()\n",
    "\n",
    "learning_rate = 0.0005\n",
    "\n",
    "def train(category_tensor, input_line_tensor, target_line_tensor):\n",
    "    target_line_tensor.unsqueeze_(-1)\n",
    "    hidden = rnn.initHidden()\n",
    "\n",
    "    rnn.zero_grad()\n",
    "\n",
    "    loss = 0\n",
    "\n",
    "    for i in range(input_line_tensor.size(0)):\n",
    "        output, hidden = rnn(category_tensor, input_line_tensor[i], hidden)\n",
    "        l = criterion(output, target_line_tensor[i])\n",
    "        loss += l\n",
    "\n",
    "    loss.backward()\n",
    "\n",
    "    for p in rnn.parameters():\n",
    "        p.data.add_(p.grad.data, alpha=-learning_rate)\n",
    "\n",
    "    return output, loss.item() / input_line_tensor.size(0)"
   ]
  },
  {
   "cell_type": "markdown",
   "id": "be6c113f",
   "metadata": {},
   "source": [
    "* ### To keep track of how long training takes we addd a timeSince(timestamp) function which returns a human readable string:"
   ]
  },
  {
   "cell_type": "code",
   "execution_count": 7,
   "id": "34cad8d4",
   "metadata": {},
   "outputs": [],
   "source": [
    "import time\n",
    "import math\n",
    "\n",
    "def timeSince(since):\n",
    "    now = time.time()\n",
    "    s = now - since\n",
    "    m = math.floor(s / 60)\n",
    "    s -= m * 60\n",
    "    return '%dm %ds' % (m, s)"
   ]
  },
  {
   "cell_type": "markdown",
   "id": "905ad3a8",
   "metadata": {},
   "source": [
    "* Call train a bunch of times and wait a few minutes, printing the current time and loss every print_every examples, and keeping store of an average loss per plot_every examples in all_losses for plotting later."
   ]
  },
  {
   "cell_type": "code",
   "execution_count": 8,
   "id": "c0b27922",
   "metadata": {},
   "outputs": [
    {
     "name": "stdout",
     "output_type": "stream",
     "text": [
      "0m 14s (5000 5%) 2.5133\n",
      "0m 28s (10000 10%) 3.0565\n",
      "0m 43s (15000 15%) 2.2267\n",
      "1m 0s (20000 20%) 2.7242\n",
      "1m 23s (25000 25%) 2.7679\n",
      "1m 38s (30000 30%) 2.6089\n",
      "1m 52s (35000 35%) 2.7051\n",
      "2m 8s (40000 40%) 1.9533\n",
      "2m 27s (45000 45%) 2.5980\n",
      "2m 44s (50000 50%) 1.0768\n",
      "3m 2s (55000 55%) 1.7827\n",
      "3m 18s (60000 60%) 1.9036\n",
      "3m 32s (65000 65%) 2.4303\n",
      "3m 48s (70000 70%) 2.6893\n",
      "4m 5s (75000 75%) 3.2030\n",
      "4m 21s (80000 80%) 2.2860\n",
      "4m 40s (85000 85%) 3.1536\n",
      "4m 57s (90000 90%) 2.1666\n",
      "5m 14s (95000 95%) 2.2510\n",
      "5m 27s (100000 100%) 2.8596\n"
     ]
    }
   ],
   "source": [
    "rnn = RNN(n_letters, 128, n_letters)\n",
    "\n",
    "n_iters = 100000\n",
    "print_every = 5000\n",
    "plot_every = 500\n",
    "all_losses = []\n",
    "total_loss = 0 # Reset every plot_every iters\n",
    "\n",
    "start = time.time()\n",
    "\n",
    "for iter in range(1, n_iters + 1):\n",
    "    output, loss = train(*randomTrainingExample())\n",
    "    total_loss += loss\n",
    "\n",
    "    if iter % print_every == 0:\n",
    "        print('%s (%d %d%%) %.4f' % (timeSince(start), iter, iter / n_iters * 100, loss))\n",
    "\n",
    "    if iter % plot_every == 0:\n",
    "        all_losses.append(total_loss / plot_every)\n",
    "        total_loss = 0"
   ]
  },
  {
   "cell_type": "markdown",
   "id": "5f1ba210",
   "metadata": {},
   "source": [
    "# Plotting the Losses \n",
    "* plotting the historical loss from all_losses shows the network learning"
   ]
  },
  {
   "cell_type": "code",
   "execution_count": 9,
   "id": "e8ed325f",
   "metadata": {},
   "outputs": [
    {
     "data": {
      "text/plain": [
       "[<matplotlib.lines.Line2D at 0x7fdbcbbc0b80>]"
      ]
     },
     "execution_count": 9,
     "metadata": {},
     "output_type": "execute_result"
    },
    {
     "data": {
      "image/png": "[encoded data removed]",
      "text/plain": [
       "<Figure size 432x288 with 1 Axes>"
      ]
     },
     "metadata": {
      "needs_background": "light"
     },
     "output_type": "display_data"
    }
   ],
   "source": [
    "import matplotlib.pyplot as plt\n",
    "\n",
    "plt.figure()\n",
    "plt.plot(all_losses)"
   ]
  },
  {
   "cell_type": "markdown",
   "id": "cca37616",
   "metadata": {},
   "source": [
    "# Sampling the Network\n",
    "* To sample we give the network a letter and ask what the next one is, feed that in as that next letter, and repeat until the EOS taken,\n",
    "* Create tensors for input category, starting letter and empty hidden state \n",
    "* Create a string output_name with the starting letter\n",
    "* Up to a maximum output length,\n",
    "    * Feed the current letter to the network\n",
    "    * Get the next letter from highest output and next hidden state\n",
    "    * if the letter is EOS , stop here\n",
    "    * If a regular letter , add to output_name and continue\n",
    "* Return the final name "
   ]
  },
  {
   "cell_type": "code",
   "execution_count": 10,
   "id": "5a080685",
   "metadata": {},
   "outputs": [
    {
     "name": "stdout",
     "output_type": "stream",
     "text": [
      "Roveri\n",
      "Uantinovov\n",
      "Shinovov\n",
      "Gerter\n",
      "Erenter\n",
      "Roure\n",
      "Sallo\n",
      "Pares\n",
      "Allon\n",
      "Chan\n",
      "Hou\n",
      "Iun\n"
     ]
    }
   ],
   "source": [
    "max_length = 20\n",
    "\n",
    "# Sample from a category and starting letter\n",
    "def sample(category, start_letter='A'):\n",
    "    with torch.no_grad():  # no need to track history in sampling\n",
    "        category_tensor = categoryTensor(category)\n",
    "        input = inputTensor(start_letter)\n",
    "        hidden = rnn.initHidden()\n",
    "\n",
    "        output_name = start_letter\n",
    "\n",
    "        for i in range(max_length):\n",
    "            output, hidden = rnn(category_tensor, input[0], hidden)\n",
    "            topv, topi = output.topk(1)\n",
    "            topi = topi[0][0]\n",
    "            if topi == n_letters - 1:\n",
    "                break\n",
    "            else:\n",
    "                letter = all_letters[topi]\n",
    "                output_name += letter\n",
    "            input = inputTensor(letter)\n",
    "\n",
    "        return output_name\n",
    "\n",
    "# Get multiple samples from one category and multiple starting letters\n",
    "def samples(category, start_letters='ABC'):\n",
    "    for start_letter in start_letters:\n",
    "        print(sample(category, start_letter))\n",
    "\n",
    "samples('Russian', 'RUS')\n",
    "\n",
    "samples('German', 'GER')\n",
    "\n",
    "samples('Spanish', 'SPA')\n",
    "\n",
    "samples('Chinese', 'CHI')"
   ]
  },
  {
   "cell_type": "code",
   "execution_count": null,
   "id": "476bae85",
   "metadata": {},
   "outputs": [],
   "source": []
  }
 ],
 "metadata": {
  "kernelspec": {
   "display_name": "Python 3",
   "language": "python",
   "name": "python3"
  },
  "language_info": {
   "codemirror_mode": {
    "name": "ipython",
    "version": 3
   },
   "file_extension": ".py",
   "mimetype": "text/x-python",
   "name": "python",
   "nbconvert_exporter": "python",
   "pygments_lexer": "ipython3",
   "version": "3.8.8"
  }
 },
 "nbformat": 4,
 "nbformat_minor": 5
}
